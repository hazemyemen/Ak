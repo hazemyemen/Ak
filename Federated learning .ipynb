{
  "cells": [
    {
      "cell_type": "markdown",
      "metadata": {
        "id": "view-in-github",
        "colab_type": "text"
      },
      "source": [
        "<a href=\"https://colab.research.google.com/github/hazemyemen/Ak/blob/main/Federated%20learning%20.ipynb\" target=\"_parent\"><img src=\"https://colab.research.google.com/assets/colab-badge.svg\" alt=\"Open In Colab\"/></a>"
      ]
    },
    {
      "cell_type": "code",
      "source": [
        "import torch\n",
        "from torchvision.datasets import MNIST\n",
        "from torch.utils.data import random_split, DataLoader\n",
        "import torchvision.transforms as transforms\n",
        "import matplotlib.pyplot as plt\n",
        "\n",
        "plt.rcParams['figure.figsize'] = (5, 5)\n",
        "%matplotlib inline"
      ],
      "metadata": {
        "id": "yKTKOI91S3xE"
      },
      "execution_count": 1,
      "outputs": []
    },
    {
      "cell_type": "markdown",
      "source": [
        "# New Section"
      ],
      "metadata": {
        "id": "AxRKa8ToaibO"
      }
    },
    {
      "cell_type": "code",
      "source": [],
      "metadata": {
        "id": "HygDWcArTVhY"
      },
      "execution_count": null,
      "outputs": []
    },
    {
      "cell_type": "code",
      "source": [
        "train_dataset = MNIST('/kaggle/working', train=True, download=True, transform=transforms.ToTensor())\n",
        "test_dataset = MNIST('/kaggle/working', train=False, download=True, transform=transforms.ToTensor())\n",
        "\n",
        "train_dataset, dev_dataset = random_split(train_dataset, [int(len(train_dataset) * 0.83), int(len(train_dataset) * 0.17)])"
      ],
      "metadata": {
        "id": "hMgI04PFTVXY",
        "outputId": "7dfcfe2c-f069-498a-a959-6800790d86f3",
        "colab": {
          "base_uri": "https://localhost:8080/"
        }
      },
      "execution_count": 2,
      "outputs": [
        {
          "output_type": "stream",
          "name": "stdout",
          "text": [
            "Downloading http://yann.lecun.com/exdb/mnist/train-images-idx3-ubyte.gz\n",
            "Downloading http://yann.lecun.com/exdb/mnist/train-images-idx3-ubyte.gz to /kaggle/working/MNIST/raw/train-images-idx3-ubyte.gz\n"
          ]
        },
        {
          "output_type": "stream",
          "name": "stderr",
          "text": [
            "100%|██████████| 9912422/9912422 [00:00<00:00, 85121648.16it/s]\n"
          ]
        },
        {
          "output_type": "stream",
          "name": "stdout",
          "text": [
            "Extracting /kaggle/working/MNIST/raw/train-images-idx3-ubyte.gz to /kaggle/working/MNIST/raw\n",
            "\n",
            "Downloading http://yann.lecun.com/exdb/mnist/train-labels-idx1-ubyte.gz\n",
            "Downloading http://yann.lecun.com/exdb/mnist/train-labels-idx1-ubyte.gz to /kaggle/working/MNIST/raw/train-labels-idx1-ubyte.gz\n"
          ]
        },
        {
          "output_type": "stream",
          "name": "stderr",
          "text": [
            "100%|██████████| 28881/28881 [00:00<00:00, 78864384.00it/s]\n"
          ]
        },
        {
          "output_type": "stream",
          "name": "stdout",
          "text": [
            "Extracting /kaggle/working/MNIST/raw/train-labels-idx1-ubyte.gz to /kaggle/working/MNIST/raw\n",
            "\n",
            "Downloading http://yann.lecun.com/exdb/mnist/t10k-images-idx3-ubyte.gz\n",
            "Downloading http://yann.lecun.com/exdb/mnist/t10k-images-idx3-ubyte.gz to /kaggle/working/MNIST/raw/t10k-images-idx3-ubyte.gz\n"
          ]
        },
        {
          "output_type": "stream",
          "name": "stderr",
          "text": [
            "100%|██████████| 1648877/1648877 [00:00<00:00, 31012965.90it/s]\n"
          ]
        },
        {
          "output_type": "stream",
          "name": "stdout",
          "text": [
            "Extracting /kaggle/working/MNIST/raw/t10k-images-idx3-ubyte.gz to /kaggle/working/MNIST/raw\n",
            "\n",
            "Downloading http://yann.lecun.com/exdb/mnist/t10k-labels-idx1-ubyte.gz\n",
            "Downloading http://yann.lecun.com/exdb/mnist/t10k-labels-idx1-ubyte.gz to /kaggle/working/MNIST/raw/t10k-labels-idx1-ubyte.gz\n"
          ]
        },
        {
          "output_type": "stream",
          "name": "stderr",
          "text": [
            "100%|██████████| 4542/4542 [00:00<00:00, 14163961.91it/s]"
          ]
        },
        {
          "output_type": "stream",
          "name": "stdout",
          "text": [
            "Extracting /kaggle/working/MNIST/raw/t10k-labels-idx1-ubyte.gz to /kaggle/working/MNIST/raw\n",
            "\n"
          ]
        },
        {
          "output_type": "stream",
          "name": "stderr",
          "text": [
            "\n"
          ]
        }
      ]
    },
    {
      "cell_type": "code",
      "source": [],
      "metadata": {
        "id": "l1NSEyrLTvnb"
      },
      "execution_count": null,
      "outputs": []
    },
    {
      "cell_type": "code",
      "source": [
        "total_train_size = len(train_dataset)\n",
        "total_test_size = len(test_dataset)\n",
        "total_dev_size = len(dev_dataset)\n",
        "\n",
        "classes = 10\n",
        "input_dim = 784\n",
        "\n",
        "num_clients = 8\n",
        "rounds = 30\n",
        "batch_size = 128\n",
        "epochs_per_client = 3\n",
        "learning_rate = 2e-2"
      ],
      "metadata": {
        "id": "JLPm41PaTvba"
      },
      "execution_count": null,
      "outputs": []
    },
    {
      "cell_type": "code",
      "source": [
        "total_train_size, total_dev_size, total_test_size"
      ],
      "metadata": {
        "id": "43bXy5fpT5ou",
        "outputId": "74bbed0b-516d-4a32-a858-4b5f29079abe",
        "colab": {
          "base_uri": "https://localhost:8080/"
        }
      },
      "execution_count": null,
      "outputs": [
        {
          "output_type": "execute_result",
          "data": {
            "text/plain": [
              "(49800, 10200, 10000)"
            ]
          },
          "metadata": {},
          "execution_count": 5
        }
      ]
    },
    {
      "cell_type": "markdown",
      "source": [
        "\n",
        "\n",
        "---"
      ],
      "metadata": {
        "id": "UmP1w1HAUVNT"
      }
    },
    {
      "cell_type": "markdown",
      "source": [
        "# Define utilities for GPU *suppor*\n",
        "\n"
      ],
      "metadata": {
        "id": "0SF7Ig6JUY72"
      }
    },
    {
      "cell_type": "markdown",
      "source": [
        "# New Section"
      ],
      "metadata": {
        "id": "_vkC7ewhajZW"
      }
    },
    {
      "cell_type": "code",
      "source": [
        "def get_device():\n",
        "    return torch.device('cuda') if torch.cuda.is_available() else torch.device('cpu')\n",
        "\n",
        "def to_device(data, device):\n",
        "    if isinstance(data, (list, tuple)):\n",
        "        return [to_device(x, device) for x in data]\n",
        "    return data.to(device, non_blocking=True)\n",
        "\n",
        "class DeviceDataLoader(DataLoader):\n",
        "        def __init__(self, dl, device):\n",
        "            self.dl = dl\n",
        "            self.device = device\n",
        "\n",
        "        def __iter__(self):\n",
        "            for batch in self.dl:\n",
        "                yield to_device(batch, self.device)\n",
        "\n",
        "        def __len__(self):\n",
        "            return len(self.dl)\n",
        "\n",
        "device = get_device()"
      ],
      "metadata": {
        "id": "DuGIL3EWUswC"
      },
      "execution_count": null,
      "outputs": []
    },
    {
      "cell_type": "markdown",
      "source": [
        "Define FederatedNet class"
      ],
      "metadata": {
        "id": "4So52h2GVGDT"
      }
    },
    {
      "cell_type": "code",
      "source": [
        "class FederatedNet(torch.nn.Module):\n",
        "    def __init__(self):\n",
        "        super().__init__()\n",
        "        self.conv1 = torch.nn.Conv2d(1, 20, 7)\n",
        "        self.conv2 = torch.nn.Conv2d(20, 40, 7)\n",
        "        self.maxpool = torch.nn.MaxPool2d(2, 2)\n",
        "        self.flatten = torch.nn.Flatten()\n",
        "        self.linear = torch.nn.Linear(2560, 10)\n",
        "        self.non_linearity = torch.nn.functional.relu\n",
        "        self.track_layers = {'conv1': self.conv1, 'conv2': self.conv2, 'linear': self.linear}\n",
        "\n",
        "    def forward(self, x_batch):\n",
        "        out = self.conv1(x_batch)\n",
        "        out = self.non_linearity(out)\n",
        "        out = self.conv2(out)\n",
        "        out = self.non_linearity(out)\n",
        "        out = self.maxpool(out)\n",
        "        out = self.flatten(out)\n",
        "        out = self.linear(out)\n",
        "        return out\n",
        "\n",
        "    def get_track_layers(self):\n",
        "        return self.track_layers\n",
        "\n",
        "    def apply_parameters(self, parameters_dict):\n",
        "        with torch.no_grad():\n",
        "            for layer_name in parameters_dict:\n",
        "                self.track_layers[layer_name].weight.data *= 0\n",
        "                self.track_layers[layer_name].bias.data *= 0\n",
        "                self.track_layers[layer_name].weight.data += parameters_dict[layer_name]['weight']\n",
        "                self.track_layers[layer_name].bias.data += parameters_dict[layer_name]['bias']\n",
        "\n",
        "    def get_parameters(self):\n",
        "        parameters_dict = dict()\n",
        "        for layer_name in self.track_layers:\n",
        "            parameters_dict[layer_name] = {\n",
        "                'weight': self.track_layers[layer_name].weight.data,\n",
        "                'bias': self.track_layers[layer_name].bias.data\n",
        "            }\n",
        "        return parameters_dict\n",
        "\n",
        "    def batch_accuracy(self, outputs, labels):\n",
        "        with torch.no_grad():\n",
        "            _, predictions = torch.max(outputs, dim=1)\n",
        "            return torch.tensor(torch.sum(predictions == labels).item() / len(predictions))\n",
        "\n",
        "    def _process_batch(self, batch):\n",
        "        images, labels = batch\n",
        "        outputs = self(images)\n",
        "        loss = torch.nn.functional.cross_entropy(outputs, labels)\n",
        "        accuracy = self.batch_accuracy(outputs, labels)\n",
        "        return (loss, accuracy)\n",
        "\n",
        "    def fit(self, dataset, epochs, lr, batch_size=128, opt=torch.optim.SGD):\n",
        "        dataloader = DeviceDataLoader(DataLoader(dataset, batch_size, shuffle=True), device)\n",
        "        optimizer = opt(self.parameters(), lr)\n",
        "        history = []\n",
        "        for epoch in range(epochs):\n",
        "            losses = []\n",
        "            accs = []\n",
        "            for batch in dataloader:\n",
        "                loss, acc = self._process_batch(batch)\n",
        "                loss.backward()\n",
        "                optimizer.step()\n",
        "                optimizer.zero_grad()\n",
        "                loss.detach()\n",
        "                losses.append(loss)\n",
        "                accs.append(acc)\n",
        "            avg_loss = torch.stack(losses).mean().item()\n",
        "            avg_acc = torch.stack(accs).mean().item()\n",
        "            history.append((avg_loss, avg_acc))\n",
        "        return history\n",
        "\n",
        "    def evaluate(self, dataset, batch_size=128):\n",
        "        dataloader = DeviceDataLoader(DataLoader(dataset, batch_size), device)\n",
        "        losses = []\n",
        "        accs = []\n",
        "        with torch.no_grad():\n",
        "            for batch in dataloader:\n",
        "                loss, acc = self._process_batch(batch)\n",
        "                losses.append(loss)\n",
        "                accs.append(acc)\n",
        "        avg_loss = torch.stack(losses).mean().item()\n",
        "        avg_acc = torch.stack(accs).mean().item()\n",
        "        return (avg_loss, avg_acc)"
      ],
      "metadata": {
        "id": "jQqBAjSHVHNt"
      },
      "execution_count": null,
      "outputs": []
    },
    {
      "cell_type": "code",
      "source": [
        "# @title Example form fields\n",
        "# @markdown Forms support many types of fields.\n",
        "\n",
        "no_type_checking = ''  # @param\n",
        "string_type = 'example'  # @param {type: \"string\"}\n",
        "slider_value = 142  # @param {type: \"slider\", min: 100, max: 200}\n",
        "number = 102  # @param {type: \"number\"}\n",
        "date = '2010-11-05'  # @param {type: \"date\"}\n",
        "pick_me = \"monday\"  # @param ['monday', 'tuesday', 'wednesday', 'thursday']\n",
        "select_or_input = \"apples\" # @param [\"apples\", \"bananas\", \"oranges\"] {allow-input: true}\n",
        "# @markdown ---\n"
      ],
      "metadata": {
        "id": "CIeDauRjr22z"
      },
      "execution_count": null,
      "outputs": []
    },
    {
      "cell_type": "markdown",
      "source": [
        "# New Section"
      ],
      "metadata": {
        "id": "tVEPoWg9rhN5"
      }
    },
    {
      "cell_type": "markdown",
      "source": [
        "define client class"
      ],
      "metadata": {
        "id": "xVafmV5LVdiv"
      }
    },
    {
      "cell_type": "code",
      "source": [
        "class Client:\n",
        "    def __init__(self, client_id, dataset):\n",
        "        self.client_id = client_id\n",
        "        self.dataset = dataset\n",
        "\n",
        "    def get_dataset_size(self):\n",
        "        return len(self.dataset)\n",
        "\n",
        "    def get_client_id(self):\n",
        "        return self.client_id\n",
        "\n",
        "    def train(self, parameters_dict):\n",
        "        net = to_device(FederatedNet(), device)\n",
        "        net.apply_parameters(parameters_dict)\n",
        "        train_history = net.fit(self.dataset, epochs_per_client, learning_rate, batch_size)\n",
        "        print('{}: Loss = {}, Accuracy = {}'.format(self.client_id, round(train_history[-1][0], 4), round(train_history[-1][1], 4)))\n",
        "        return net.get_parameters()\n"
      ],
      "metadata": {
        "id": "vCpz6NV6VdKr"
      },
      "execution_count": null,
      "outputs": []
    },
    {
      "cell_type": "code",
      "source": [],
      "metadata": {
        "id": "4iXn5kUFVvZG"
      },
      "execution_count": null,
      "outputs": []
    },
    {
      "cell_type": "markdown",
      "source": [],
      "metadata": {
        "id": "bxtCGegZVvLf"
      }
    },
    {
      "cell_type": "code",
      "source": [
        "examples_per_client = total_train_size // num_clients\n",
        "client_datasets = random_split(train_dataset, [min(i + examples_per_client,\n",
        "           total_train_size) - i for i in range(0, total_train_size, examples_per_client)])\n",
        "clients = [Client('client_' + str(i), client_datasets[i]) for i in range(num_clients)]"
      ],
      "metadata": {
        "id": "lFS9-gqrVunR"
      },
      "execution_count": null,
      "outputs": []
    },
    {
      "cell_type": "markdown",
      "source": [],
      "metadata": {
        "id": "TAI0_YAJV4Qs"
      }
    },
    {
      "cell_type": "code",
      "source": [
        "global_net = to_device(FederatedNet(), device)\n",
        "history = []\n",
        "for i in range(rounds):\n",
        "    print('Start Round {} ...'.format(i + 1))\n",
        "    curr_parameters = global_net.get_parameters()\n",
        "    new_parameters = dict([(layer_name, {'weight': 0, 'bias': 0}) for layer_name in curr_parameters])\n",
        "    for client in clients:\n",
        "        client_parameters = client.train(curr_parameters)\n",
        "        fraction = client.get_dataset_size() / total_train_size\n",
        "        for layer_name in client_parameters:\n",
        "            new_parameters[layer_name]['weight'] += fraction * client_parameters[layer_name]['weight']\n",
        "            new_parameters[layer_name]['bias'] += fraction * client_parameters[layer_name]['bias']\n",
        "    global_net.apply_parameters(new_parameters)\n",
        "\n",
        "    train_loss, train_acc = global_net.evaluate(train_dataset)\n",
        "    dev_loss, dev_acc = global_net.evaluate(dev_dataset)\n",
        "    print('After round {}, train_loss = {}, dev_loss = {}, dev_acc = {}\\n'.format(i + 1, round(train_loss, 4),\n",
        "            round(dev_loss, 4), round(dev_acc, 4)))\n",
        "    history.append((train_loss, dev_loss))"
      ],
      "metadata": {
        "id": "UE_2CsJuWHR7",
        "outputId": "1bdcefbc-323a-4431-c15b-52985bdf35ad",
        "colab": {
          "base_uri": "https://localhost:8080/"
        }
      },
      "execution_count": null,
      "outputs": [
        {
          "output_type": "stream",
          "name": "stdout",
          "text": [
            "Start Round 1 ...\n",
            "client_0: Loss = 0.4656, Accuracy = 0.8613\n",
            "client_1: Loss = 0.4794, Accuracy = 0.8595\n",
            "client_2: Loss = 0.4416, Accuracy = 0.8696\n",
            "client_3: Loss = 0.4541, Accuracy = 0.8618\n",
            "client_4: Loss = 0.4677, Accuracy = 0.857\n",
            "client_5: Loss = 0.4225, Accuracy = 0.875\n",
            "client_6: Loss = 0.4524, Accuracy = 0.8673\n",
            "client_7: Loss = 0.4308, Accuracy = 0.871\n",
            "After round 1, train_loss = 0.3782, dev_loss = 0.3733, dev_acc = 0.8932\n",
            "\n",
            "Start Round 2 ...\n",
            "client_0: Loss = 0.299, Accuracy = 0.9134\n",
            "client_1: Loss = 0.3164, Accuracy = 0.9088\n",
            "client_2: Loss = 0.2896, Accuracy = 0.9151\n",
            "client_3: Loss = 0.2905, Accuracy = 0.9173\n",
            "client_4: Loss = 0.3068, Accuracy = 0.9113\n",
            "client_5: Loss = 0.2812, Accuracy = 0.9211\n",
            "client_6: Loss = 0.3086, Accuracy = 0.9077\n",
            "client_7: Loss = 0.2748, Accuracy = 0.9192\n",
            "After round 2, train_loss = 0.2694, dev_loss = 0.267, dev_acc = 0.9237\n",
            "\n",
            "Start Round 3 ...\n",
            "client_0: Loss = 0.2226, Accuracy = 0.9375\n",
            "client_1: Loss = 0.2328, Accuracy = 0.9331\n",
            "client_2: Loss = 0.2117, Accuracy = 0.9422\n",
            "client_3: Loss = 0.2139, Accuracy = 0.9397\n",
            "client_4: Loss = 0.2313, Accuracy = 0.9357\n",
            "client_5: Loss = 0.2081, Accuracy = 0.9426\n",
            "client_6: Loss = 0.2278, Accuracy = 0.9334\n",
            "client_7: Loss = 0.2005, Accuracy = 0.9411\n",
            "After round 3, train_loss = 0.2054, dev_loss = 0.2062, dev_acc = 0.941\n",
            "\n",
            "Start Round 4 ...\n",
            "client_0: Loss = 0.1722, Accuracy = 0.9519\n",
            "client_1: Loss = 0.1838, Accuracy = 0.9494\n",
            "client_2: Loss = 0.1651, Accuracy = 0.9526\n",
            "client_3: Loss = 0.1685, Accuracy = 0.9536\n",
            "client_4: Loss = 0.1817, Accuracy = 0.9508\n",
            "client_5: Loss = 0.1627, Accuracy = 0.9528\n",
            "client_6: Loss = 0.179, Accuracy = 0.9467\n",
            "client_7: Loss = 0.1521, Accuracy = 0.955\n",
            "After round 4, train_loss = 0.1639, dev_loss = 0.1663, dev_acc = 0.9542\n",
            "\n",
            "Start Round 5 ...\n",
            "client_0: Loss = 0.1432, Accuracy = 0.9599\n",
            "client_1: Loss = 0.1549, Accuracy = 0.9581\n",
            "client_2: Loss = 0.1382, Accuracy = 0.9608\n",
            "client_3: Loss = 0.1397, Accuracy = 0.9595\n",
            "client_4: Loss = 0.1506, Accuracy = 0.9597\n",
            "client_5: Loss = 0.1347, Accuracy = 0.9623\n",
            "client_6: Loss = 0.148, Accuracy = 0.9569\n",
            "client_7: Loss = 0.1257, Accuracy = 0.9641\n",
            "After round 5, train_loss = 0.1375, dev_loss = 0.1405, dev_acc = 0.9615\n",
            "\n",
            "Start Round 6 ...\n",
            "client_0: Loss = 0.125, Accuracy = 0.964\n",
            "client_1: Loss = 0.1316, Accuracy = 0.9619\n",
            "client_2: Loss = 0.1176, Accuracy = 0.968\n",
            "client_3: Loss = 0.1224, Accuracy = 0.9651\n",
            "client_4: Loss = 0.1302, Accuracy = 0.9654\n",
            "client_5: Loss = 0.1169, Accuracy = 0.9667\n",
            "client_6: Loss = 0.1289, Accuracy = 0.9601\n",
            "client_7: Loss = 0.106, Accuracy = 0.9692\n",
            "After round 6, train_loss = 0.1194, dev_loss = 0.1235, dev_acc = 0.9661\n",
            "\n",
            "Start Round 7 ...\n",
            "client_0: Loss = 0.1118, Accuracy = 0.967\n",
            "client_1: Loss = 0.117, Accuracy = 0.9678\n",
            "client_2: Loss = 0.1045, Accuracy = 0.971\n",
            "client_3: Loss = 0.1067, Accuracy = 0.9713\n",
            "client_4: Loss = 0.1157, Accuracy = 0.9684\n",
            "client_5: Loss = 0.1031, Accuracy = 0.9715\n",
            "client_6: Loss = 0.1113, Accuracy = 0.9666\n",
            "client_7: Loss = 0.0925, Accuracy = 0.973\n",
            "After round 7, train_loss = 0.1066, dev_loss = 0.1117, dev_acc = 0.9698\n",
            "\n",
            "Start Round 8 ...\n",
            "client_0: Loss = 0.0999, Accuracy = 0.9726\n",
            "client_1: Loss = 0.1038, Accuracy = 0.9708\n",
            "client_2: Loss = 0.0938, Accuracy = 0.9742\n",
            "client_3: Loss = 0.098, Accuracy = 0.9723\n",
            "client_4: Loss = 0.1052, Accuracy = 0.9706\n",
            "client_5: Loss = 0.0963, Accuracy = 0.9739\n",
            "client_6: Loss = 0.1021, Accuracy = 0.9692\n",
            "client_7: Loss = 0.0839, Accuracy = 0.9761\n",
            "After round 8, train_loss = 0.0972, dev_loss = 0.1032, dev_acc = 0.9718\n",
            "\n",
            "Start Round 9 ...\n",
            "client_0: Loss = 0.092, Accuracy = 0.9747\n",
            "client_1: Loss = 0.0966, Accuracy = 0.9723\n",
            "client_2: Loss = 0.0838, Accuracy = 0.9752\n",
            "client_3: Loss = 0.0887, Accuracy = 0.9772\n",
            "client_4: Loss = 0.0964, Accuracy = 0.9736\n",
            "client_5: Loss = 0.087, Accuracy = 0.9765\n",
            "client_6: Loss = 0.0944, Accuracy = 0.9707\n",
            "client_7: Loss = 0.0771, Accuracy = 0.977\n",
            "After round 9, train_loss = 0.0899, dev_loss = 0.0963, dev_acc = 0.9732\n",
            "\n",
            "Start Round 10 ...\n",
            "client_0: Loss = 0.087, Accuracy = 0.9738\n",
            "client_1: Loss = 0.0861, Accuracy = 0.9754\n",
            "client_2: Loss = 0.0782, Accuracy = 0.9781\n",
            "client_3: Loss = 0.0829, Accuracy = 0.9782\n",
            "client_4: Loss = 0.0899, Accuracy = 0.9765\n",
            "client_5: Loss = 0.0796, Accuracy = 0.9779\n",
            "client_6: Loss = 0.0882, Accuracy = 0.973\n",
            "client_7: Loss = 0.0709, Accuracy = 0.9802\n",
            "After round 10, train_loss = 0.0833, dev_loss = 0.0905, dev_acc = 0.9746\n",
            "\n",
            "Start Round 11 ...\n",
            "client_0: Loss = 0.0797, Accuracy = 0.9775\n",
            "client_1: Loss = 0.0825, Accuracy = 0.9759\n",
            "client_2: Loss = 0.0716, Accuracy = 0.9783\n",
            "client_3: Loss = 0.0769, Accuracy = 0.9792\n",
            "client_4: Loss = 0.0841, Accuracy = 0.9782\n",
            "client_5: Loss = 0.0751, Accuracy = 0.9793\n",
            "client_6: Loss = 0.0831, Accuracy = 0.9739\n",
            "client_7: Loss = 0.0647, Accuracy = 0.9809\n",
            "After round 11, train_loss = 0.078, dev_loss = 0.0851, dev_acc = 0.9759\n",
            "\n",
            "Start Round 12 ...\n",
            "client_0: Loss = 0.0753, Accuracy = 0.9777\n",
            "client_1: Loss = 0.0776, Accuracy = 0.9786\n",
            "client_2: Loss = 0.069, Accuracy = 0.9807\n",
            "client_3: Loss = 0.0718, Accuracy = 0.9809\n",
            "client_4: Loss = 0.0781, Accuracy = 0.9793\n",
            "client_5: Loss = 0.0696, Accuracy = 0.9816\n",
            "client_6: Loss = 0.0761, Accuracy = 0.9774\n",
            "client_7: Loss = 0.0614, Accuracy = 0.9829\n",
            "After round 12, train_loss = 0.0732, dev_loss = 0.0811, dev_acc = 0.9772\n",
            "\n",
            "Start Round 13 ...\n",
            "client_0: Loss = 0.0712, Accuracy = 0.9778\n",
            "client_1: Loss = 0.0725, Accuracy = 0.9786\n",
            "client_2: Loss = 0.0626, Accuracy = 0.9809\n",
            "client_3: Loss = 0.0674, Accuracy = 0.9825\n",
            "client_4: Loss = 0.0746, Accuracy = 0.9793\n",
            "client_5: Loss = 0.0663, Accuracy = 0.9808\n",
            "client_6: Loss = 0.0742, Accuracy = 0.979\n",
            "client_7: Loss = 0.0583, Accuracy = 0.9828\n",
            "After round 13, train_loss = 0.0694, dev_loss = 0.0777, dev_acc = 0.9786\n",
            "\n",
            "Start Round 14 ...\n",
            "client_0: Loss = 0.0676, Accuracy = 0.9785\n",
            "client_1: Loss = 0.0689, Accuracy = 0.9794\n",
            "client_2: Loss = 0.0611, Accuracy = 0.9817\n",
            "client_3: Loss = 0.0672, Accuracy = 0.9803\n",
            "client_4: Loss = 0.0691, Accuracy = 0.9807\n",
            "client_5: Loss = 0.0628, Accuracy = 0.9825\n",
            "client_6: Loss = 0.0692, Accuracy = 0.9802\n",
            "client_7: Loss = 0.0536, Accuracy = 0.9838\n",
            "After round 14, train_loss = 0.0666, dev_loss = 0.0761, dev_acc = 0.9779\n",
            "\n",
            "Start Round 15 ...\n",
            "client_0: Loss = 0.0638, Accuracy = 0.98\n",
            "client_1: Loss = 0.0647, Accuracy = 0.9815\n",
            "client_2: Loss = 0.0566, Accuracy = 0.9833\n",
            "client_3: Loss = 0.0627, Accuracy = 0.9842\n",
            "client_4: Loss = 0.0676, Accuracy = 0.9798\n",
            "client_5: Loss = 0.061, Accuracy = 0.9812\n",
            "client_6: Loss = 0.0657, Accuracy = 0.9809\n",
            "client_7: Loss = 0.0521, Accuracy = 0.9861\n",
            "After round 15, train_loss = 0.063, dev_loss = 0.0724, dev_acc = 0.979\n",
            "\n",
            "Start Round 16 ...\n",
            "client_0: Loss = 0.0611, Accuracy = 0.9821\n",
            "client_1: Loss = 0.061, Accuracy = 0.9821\n",
            "client_2: Loss = 0.0541, Accuracy = 0.9837\n",
            "client_3: Loss = 0.0595, Accuracy = 0.984\n",
            "client_4: Loss = 0.0642, Accuracy = 0.9828\n",
            "client_5: Loss = 0.0572, Accuracy = 0.984\n",
            "client_6: Loss = 0.0629, Accuracy = 0.9827\n",
            "client_7: Loss = 0.0477, Accuracy = 0.9863\n",
            "After round 16, train_loss = 0.0603, dev_loss = 0.0705, dev_acc = 0.98\n",
            "\n",
            "Start Round 17 ...\n",
            "client_0: Loss = 0.0576, Accuracy = 0.982\n",
            "client_1: Loss = 0.0581, Accuracy = 0.9832\n",
            "client_2: Loss = 0.052, Accuracy = 0.9835\n",
            "client_3: Loss = 0.0569, Accuracy = 0.9846\n",
            "client_4: Loss = 0.0614, Accuracy = 0.9819\n",
            "client_5: Loss = 0.0551, Accuracy = 0.9848\n",
            "client_6: Loss = 0.0606, Accuracy = 0.9828\n",
            "client_7: Loss = 0.0464, Accuracy = 0.9879\n",
            "After round 17, train_loss = 0.0585, dev_loss = 0.0683, dev_acc = 0.9808\n",
            "\n",
            "Start Round 18 ...\n",
            "client_0: Loss = 0.0566, Accuracy = 0.9825\n",
            "client_1: Loss = 0.0561, Accuracy = 0.9849\n",
            "client_2: Loss = 0.0484, Accuracy = 0.986\n",
            "client_3: Loss = 0.0532, Accuracy = 0.9856\n",
            "client_4: Loss = 0.0599, Accuracy = 0.9823\n",
            "client_5: Loss = 0.0517, Accuracy = 0.9856\n",
            "client_6: Loss = 0.0594, Accuracy = 0.9825\n",
            "client_7: Loss = 0.0433, Accuracy = 0.988\n",
            "After round 18, train_loss = 0.056, dev_loss = 0.0669, dev_acc = 0.9812\n",
            "\n",
            "Start Round 19 ...\n",
            "client_0: Loss = 0.0538, Accuracy = 0.9828\n",
            "client_1: Loss = 0.0532, Accuracy = 0.9857\n",
            "client_2: Loss = 0.0464, Accuracy = 0.9869\n",
            "client_3: Loss = 0.051, Accuracy = 0.9868\n",
            "client_4: Loss = 0.0572, Accuracy = 0.9843\n",
            "client_5: Loss = 0.0511, Accuracy = 0.9852\n",
            "client_6: Loss = 0.0563, Accuracy = 0.9827\n",
            "client_7: Loss = 0.0415, Accuracy = 0.9877\n",
            "After round 19, train_loss = 0.0539, dev_loss = 0.0649, dev_acc = 0.9818\n",
            "\n",
            "Start Round 20 ...\n",
            "client_0: Loss = 0.053, Accuracy = 0.9827\n",
            "client_1: Loss = 0.0514, Accuracy = 0.9851\n",
            "client_2: Loss = 0.0463, Accuracy = 0.9874\n",
            "client_3: Loss = 0.0499, Accuracy = 0.9858\n",
            "client_4: Loss = 0.0553, Accuracy = 0.9854\n",
            "client_5: Loss = 0.0477, Accuracy = 0.9859\n",
            "client_6: Loss = 0.0541, Accuracy = 0.9845\n",
            "client_7: Loss = 0.0407, Accuracy = 0.9886\n",
            "After round 20, train_loss = 0.052, dev_loss = 0.0639, dev_acc = 0.9814\n",
            "\n",
            "Start Round 21 ...\n",
            "client_0: Loss = 0.0499, Accuracy = 0.9848\n",
            "client_1: Loss = 0.0501, Accuracy = 0.987\n",
            "client_2: Loss = 0.0431, Accuracy = 0.9876\n",
            "client_3: Loss = 0.0483, Accuracy = 0.9862\n",
            "client_4: Loss = 0.0521, Accuracy = 0.9855\n",
            "client_5: Loss = 0.0476, Accuracy = 0.9864\n",
            "client_6: Loss = 0.0532, Accuracy = 0.9844\n",
            "client_7: Loss = 0.0395, Accuracy = 0.9891\n",
            "After round 21, train_loss = 0.0509, dev_loss = 0.0622, dev_acc = 0.982\n",
            "\n",
            "Start Round 22 ...\n",
            "client_0: Loss = 0.0497, Accuracy = 0.9861\n",
            "client_1: Loss = 0.0486, Accuracy = 0.9871\n",
            "client_2: Loss = 0.0417, Accuracy = 0.9869\n",
            "client_3: Loss = 0.0474, Accuracy = 0.9872\n",
            "client_4: Loss = 0.0508, Accuracy = 0.9852\n",
            "client_5: Loss = 0.0444, Accuracy = 0.9861\n",
            "client_6: Loss = 0.0519, Accuracy = 0.9856\n",
            "client_7: Loss = 0.0385, Accuracy = 0.9895\n",
            "After round 22, train_loss = 0.049, dev_loss = 0.062, dev_acc = 0.9817\n",
            "\n",
            "Start Round 23 ...\n",
            "client_0: Loss = 0.0477, Accuracy = 0.9851\n",
            "client_1: Loss = 0.0482, Accuracy = 0.9874\n",
            "client_2: Loss = 0.0414, Accuracy = 0.9869\n",
            "client_3: Loss = 0.0456, Accuracy = 0.9866\n",
            "client_4: Loss = 0.049, Accuracy = 0.9863\n",
            "client_5: Loss = 0.0431, Accuracy = 0.9875\n",
            "client_6: Loss = 0.0486, Accuracy = 0.9855\n",
            "client_7: Loss = 0.0361, Accuracy = 0.9895\n",
            "After round 23, train_loss = 0.0482, dev_loss = 0.0608, dev_acc = 0.9818\n",
            "\n",
            "Start Round 24 ...\n",
            "client_0: Loss = 0.048, Accuracy = 0.9847\n",
            "client_1: Loss = 0.0466, Accuracy = 0.9879\n",
            "client_2: Loss = 0.0384, Accuracy = 0.9895\n",
            "client_3: Loss = 0.0434, Accuracy = 0.9874\n",
            "client_4: Loss = 0.0473, Accuracy = 0.9862\n",
            "client_5: Loss = 0.0432, Accuracy = 0.9872\n",
            "client_6: Loss = 0.0475, Accuracy = 0.9855\n",
            "client_7: Loss = 0.0355, Accuracy = 0.9907\n",
            "After round 24, train_loss = 0.0462, dev_loss = 0.0595, dev_acc = 0.9827\n",
            "\n",
            "Start Round 25 ...\n",
            "client_0: Loss = 0.0434, Accuracy = 0.9862\n",
            "client_1: Loss = 0.0436, Accuracy = 0.9879\n",
            "client_2: Loss = 0.0383, Accuracy = 0.9883\n",
            "client_3: Loss = 0.0428, Accuracy = 0.9884\n",
            "client_4: Loss = 0.0464, Accuracy = 0.9868\n",
            "client_5: Loss = 0.0411, Accuracy = 0.9874\n",
            "client_6: Loss = 0.0463, Accuracy = 0.9859\n",
            "client_7: Loss = 0.0343, Accuracy = 0.9912\n",
            "After round 25, train_loss = 0.045, dev_loss = 0.0588, dev_acc = 0.9831\n",
            "\n",
            "Start Round 26 ...\n",
            "client_0: Loss = 0.0421, Accuracy = 0.9868\n",
            "client_1: Loss = 0.0427, Accuracy = 0.9877\n",
            "client_2: Loss = 0.0362, Accuracy = 0.9898\n",
            "client_3: Loss = 0.0416, Accuracy = 0.9884\n",
            "client_4: Loss = 0.0445, Accuracy = 0.9866\n",
            "client_5: Loss = 0.0398, Accuracy = 0.9887\n",
            "client_6: Loss = 0.0452, Accuracy = 0.9865\n",
            "client_7: Loss = 0.033, Accuracy = 0.9911\n",
            "After round 26, train_loss = 0.0441, dev_loss = 0.0591, dev_acc = 0.9826\n",
            "\n",
            "Start Round 27 ...\n",
            "client_0: Loss = 0.0426, Accuracy = 0.9877\n",
            "client_1: Loss = 0.0411, Accuracy = 0.989\n",
            "client_2: Loss = 0.0353, Accuracy = 0.9886\n",
            "client_3: Loss = 0.0407, Accuracy = 0.9878\n",
            "client_4: Loss = 0.0443, Accuracy = 0.9856\n",
            "client_5: Loss = 0.0381, Accuracy = 0.9884\n",
            "client_6: Loss = 0.0436, Accuracy = 0.9872\n",
            "client_7: Loss = 0.0322, Accuracy = 0.9933\n",
            "After round 27, train_loss = 0.0428, dev_loss = 0.0578, dev_acc = 0.9828\n",
            "\n",
            "Start Round 28 ...\n",
            "client_0: Loss = 0.0408, Accuracy = 0.9876\n",
            "client_1: Loss = 0.0403, Accuracy = 0.9898\n",
            "client_2: Loss = 0.0348, Accuracy = 0.9903\n",
            "client_3: Loss = 0.0407, Accuracy = 0.9887\n",
            "client_4: Loss = 0.042, Accuracy = 0.9875\n",
            "client_5: Loss = 0.0385, Accuracy = 0.9884\n",
            "client_6: Loss = 0.0435, Accuracy = 0.9875\n",
            "client_7: Loss = 0.031, Accuracy = 0.9916\n",
            "After round 28, train_loss = 0.0415, dev_loss = 0.0569, dev_acc = 0.9835\n",
            "\n",
            "Start Round 29 ...\n",
            "client_0: Loss = 0.0395, Accuracy = 0.9884\n",
            "client_1: Loss = 0.0413, Accuracy = 0.9881\n",
            "client_2: Loss = 0.0339, Accuracy = 0.9893\n",
            "client_3: Loss = 0.0379, Accuracy = 0.9901\n",
            "client_4: Loss = 0.0409, Accuracy = 0.9884\n",
            "client_5: Loss = 0.0365, Accuracy = 0.9886\n",
            "client_6: Loss = 0.0416, Accuracy = 0.9887\n",
            "client_7: Loss = 0.0297, Accuracy = 0.9921\n",
            "After round 29, train_loss = 0.0409, dev_loss = 0.0568, dev_acc = 0.9831\n",
            "\n",
            "Start Round 30 ...\n",
            "client_0: Loss = 0.0385, Accuracy = 0.9882\n",
            "client_1: Loss = 0.0382, Accuracy = 0.9892\n",
            "client_2: Loss = 0.0328, Accuracy = 0.9885\n",
            "client_3: Loss = 0.0369, Accuracy = 0.9904\n",
            "client_4: Loss = 0.0397, Accuracy = 0.9881\n",
            "client_5: Loss = 0.0361, Accuracy = 0.9893\n",
            "client_6: Loss = 0.0413, Accuracy = 0.988\n",
            "client_7: Loss = 0.0287, Accuracy = 0.9936\n",
            "After round 30, train_loss = 0.0399, dev_loss = 0.0557, dev_acc = 0.9838\n",
            "\n"
          ]
        }
      ]
    }
  ],
  "metadata": {
    "colab": {
      "toc_visible": true,
      "provenance": [],
      "gpuType": "T4",
      "include_colab_link": true
    },
    "kernelspec": {
      "display_name": "Python 3",
      "name": "python3"
    },
    "accelerator": "GPU"
  },
  "nbformat": 4,
  "nbformat_minor": 0
}